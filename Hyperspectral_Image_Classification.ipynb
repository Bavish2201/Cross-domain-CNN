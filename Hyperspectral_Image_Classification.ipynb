{
  "nbformat": 4,
  "nbformat_minor": 0,
  "metadata": {
    "colab": {
      "name": "Hyperspectral Image Classification",
      "version": "0.3.2",
      "provenance": [],
      "toc_visible": true,
      "include_colab_link": true
    },
    "kernelspec": {
      "name": "python3",
      "display_name": "Python 3"
    },
    "accelerator": "GPU"
  },
  "cells": [
    {
      "cell_type": "markdown",
      "metadata": {
        "id": "view-in-github",
        "colab_type": "text"
      },
      "source": [
        "<a href=\"https://colab.research.google.com/github/Bavish2201/Cross-domain-CNN/blob/master/Hyperspectral_Image_Classification.ipynb\" target=\"_parent\"><img src=\"https://colab.research.google.com/assets/colab-badge.svg\" alt=\"Open In Colab\"/></a>"
      ]
    },
    {
      "metadata": {
        "id": "jiRKydgGq9NK",
        "colab_type": "text"
      },
      "cell_type": "markdown",
      "source": [
        "# Hyperspectral Image Classification using Cross-domain CNN"
      ]
    },
    {
      "metadata": {
        "id": "kalb3YZorLw0",
        "colab_type": "text"
      },
      "cell_type": "markdown",
      "source": [
        "## Loading Indian Pines dataset"
      ]
    },
    {
      "metadata": {
        "id": "ib_P2cGzGUXX",
        "colab_type": "code",
        "outputId": "47f80dc6-dbc8-4bfb-dbc0-8fb436b8128d",
        "colab": {
          "base_uri": "https://localhost:8080/",
          "height": 34
        }
      },
      "cell_type": "code",
      "source": [
        "import numpy as np\n",
        "import scipy.io\n",
        "data = scipy.io.loadmat('Indian_pines.mat')['indian_pines']\n",
        "print(data.shape)"
      ],
      "execution_count": 1,
      "outputs": [
        {
          "output_type": "stream",
          "text": [
            "(145, 145, 220)\n"
          ],
          "name": "stdout"
        }
      ]
    },
    {
      "metadata": {
        "id": "IQOq2E5BRN5X",
        "colab_type": "code",
        "outputId": "07e5fe08-4f1e-41f5-f0ca-e19182f10933",
        "colab": {
          "base_uri": "https://localhost:8080/",
          "height": 34
        }
      },
      "cell_type": "code",
      "source": [
        "indian_pines_gt = scipy.io.loadmat('Indian_pines_gt.mat')['indian_pines_gt']\n",
        "print(indian_pines_gt.shape)"
      ],
      "execution_count": 2,
      "outputs": [
        {
          "output_type": "stream",
          "text": [
            "(145, 145)\n"
          ],
          "name": "stdout"
        }
      ]
    },
    {
      "metadata": {
        "id": "mNX3z1RuWekt",
        "colab_type": "code",
        "outputId": "42b3725d-5259-49c3-b880-a94e123329cf",
        "colab": {
          "base_uri": "https://localhost:8080/",
          "height": 51
        }
      },
      "cell_type": "code",
      "source": [
        "from scipy.ndimage import rotate\n",
        "\n",
        "X_indian_pines = []\n",
        "Y_indian_pines = []\n",
        "\n",
        "step = 5\n",
        "x = range(0, 145, step)\n",
        "y = range(0, 145, step)\n",
        "\n",
        "for i in x:\n",
        "  for j in y:\n",
        "    _data = data[i:i+step, j:j+step]\n",
        "    X_indian_pines.append(_data)   \n",
        "    X_indian_pines.append(np.flip(_data, 0))\n",
        "    X_indian_pines.append(np.flip(_data, 1))\n",
        "    X_indian_pines.append(rotate(_data, 90))\n",
        "    X_indian_pines.append(rotate(_data, -90))\n",
        "     \n",
        "    label = scipy.stats.mode(indian_pines_gt[i:i+step, j:j+step].reshape(step*step, 1))[0][0][0]\n",
        "    Y_indian_pines += [label]*5\n",
        "    \n",
        "X_indian_pines = np.array(X_indian_pines)\n",
        "Y_indian_pines = np.array(Y_indian_pines)\n",
        "\n",
        "print(X_indian_pines.shape)\n",
        "print(Y_indian_pines.shape)"
      ],
      "execution_count": 3,
      "outputs": [
        {
          "output_type": "stream",
          "text": [
            "(4205, 5, 5, 220)\n",
            "(4205,)\n"
          ],
          "name": "stdout"
        }
      ]
    },
    {
      "metadata": {
        "id": "D9CeFmR-QLTr",
        "colab_type": "text"
      },
      "cell_type": "markdown",
      "source": [
        "## Salinas Dataset"
      ]
    },
    {
      "metadata": {
        "id": "n4UwFpiPQKc0",
        "colab_type": "code",
        "colab": {}
      },
      "cell_type": "code",
      "source": [
        "salinas_data = scipy.io.loadmat('Salinas.mat')['salinas']"
      ],
      "execution_count": 0,
      "outputs": []
    },
    {
      "metadata": {
        "id": "BYSUFeMTSliu",
        "colab_type": "code",
        "outputId": "cd63c629-46e6-4d46-94e1-1fd59db7fd9a",
        "colab": {
          "base_uri": "https://localhost:8080/",
          "height": 34
        }
      },
      "cell_type": "code",
      "source": [
        "print(salinas_data.shape)"
      ],
      "execution_count": 5,
      "outputs": [
        {
          "output_type": "stream",
          "text": [
            "(512, 217, 224)\n"
          ],
          "name": "stdout"
        }
      ]
    },
    {
      "metadata": {
        "id": "UHkpcNTdSoz5",
        "colab_type": "code",
        "outputId": "35a33c5f-df61-43ff-b703-eca869fc6c3b",
        "colab": {
          "base_uri": "https://localhost:8080/",
          "height": 34
        }
      },
      "cell_type": "code",
      "source": [
        "X_salinas = []\n",
        "step = 5\n",
        "x = range(0, 510, step)\n",
        "y = range(0, 215, step)\n",
        "for i in x:\n",
        "  for j in y:\n",
        "    X_salinas.append(salinas_data[i:i+step, j:j+step])\n",
        "X_salinas = np.array(X_salinas)[:4205]\n",
        "\n",
        "print(X_salinas.shape)"
      ],
      "execution_count": 6,
      "outputs": [
        {
          "output_type": "stream",
          "text": [
            "(4205, 5, 5, 224)\n"
          ],
          "name": "stdout"
        }
      ]
    },
    {
      "metadata": {
        "id": "XZ12MTMNT1bg",
        "colab_type": "code",
        "outputId": "83ad8f1d-3412-4357-952d-b41439a3c73c",
        "colab": {
          "base_uri": "https://localhost:8080/",
          "height": 34
        }
      },
      "cell_type": "code",
      "source": [
        "salinas_gt = scipy.io.loadmat('Salinas_gt.mat')['salinas_gt']\n",
        "print(salinas_gt.shape)"
      ],
      "execution_count": 7,
      "outputs": [
        {
          "output_type": "stream",
          "text": [
            "(512, 217)\n"
          ],
          "name": "stdout"
        }
      ]
    },
    {
      "metadata": {
        "id": "-7tS-ZMgT-rR",
        "colab_type": "code",
        "colab": {}
      },
      "cell_type": "code",
      "source": [
        "Y_salinas = []\n",
        "for i in x:\n",
        "  for j in y:\n",
        "    label = scipy.stats.mode(salinas_gt[i:i+step, j:j+step].reshape(step*step, 1))[0][0][0]\n",
        "    Y_salinas.append(label)\n",
        "Y_salinas = np.array(Y_salinas)"
      ],
      "execution_count": 0,
      "outputs": []
    },
    {
      "metadata": {
        "id": "qPKriJ3CUewX",
        "colab_type": "code",
        "outputId": "362e2d92-39c8-4ece-a95c-c584120fa083",
        "colab": {
          "base_uri": "https://localhost:8080/",
          "height": 368
        }
      },
      "cell_type": "code",
      "source": [
        "import matplotlib.pyplot as plt\n",
        "fig, ax = plt.subplots(1, 2)\n",
        "ax[0].imshow(Y_salinas.reshape(102, 43), cmap='nipy_spectral')\n",
        "ax[1].imshow(salinas_gt, cmap='nipy_spectral')"
      ],
      "execution_count": 9,
      "outputs": [
        {
          "output_type": "execute_result",
          "data": {
            "text/plain": [
              "<matplotlib.image.AxesImage at 0x7feb103276d8>"
            ]
          },
          "metadata": {
            "tags": []
          },
          "execution_count": 9
        },
        {
          "output_type": "display_data",
          "data": {
            "image/png": "[encoded data removed]",
            "text/plain": [
              "<Figure size 576x396 with 2 Axes>"
            ]
          },
          "metadata": {
            "tags": []
          }
        }
      ]
    },
    {
      "metadata": {
        "id": "ypX1hAg_aMkN",
        "colab_type": "code",
        "outputId": "67c23f4b-ff8e-4073-cbe4-c864d589ed20",
        "colab": {
          "base_uri": "https://localhost:8080/",
          "height": 34
        }
      },
      "cell_type": "code",
      "source": [
        "Y_salinas = Y_salinas[:4205]\n",
        "\n",
        "from keras.utils import to_categorical\n",
        "Y_salinas = to_categorical(Y_salinas)\n",
        "Y_indian_pines = to_categorical(Y_indian_pines)\n"
      ],
      "execution_count": 10,
      "outputs": [
        {
          "output_type": "stream",
          "text": [
            "Using TensorFlow backend.\n"
          ],
          "name": "stderr"
        }
      ]
    },
    {
      "metadata": {
        "id": "wsHeZz2aoxNB",
        "colab_type": "code",
        "outputId": "961aece1-5049-4f0a-9668-312d67ecbf7c",
        "colab": {
          "base_uri": "https://localhost:8080/",
          "height": 85
        }
      },
      "cell_type": "code",
      "source": [
        "print(X_indian_pines.shape)\n",
        "print(Y_indian_pines.shape)\n",
        "print(X_salinas.shape)\n",
        "print(Y_salinas.shape)"
      ],
      "execution_count": 11,
      "outputs": [
        {
          "output_type": "stream",
          "text": [
            "(4205, 5, 5, 220)\n",
            "(4205, 17)\n",
            "(4205, 5, 5, 224)\n",
            "(4205, 17)\n"
          ],
          "name": "stdout"
        }
      ]
    },
    {
      "metadata": {
        "id": "ia-tfXYmsK0C",
        "colab_type": "code",
        "colab": {}
      },
      "cell_type": "code",
      "source": [
        "from sklearn.model_selection import train_test_split\n",
        "\n",
        "(Xtrain_indian_pines, Xtest_indian_pines, Ytrain_indian_pines, Ytest_indian_pines) = train_test_split(X_indian_pines, Y_indian_pines)\n",
        "(Xtrain_salinas, Xtest_salinas, Ytrain_salinas, Ytest_salinas) = train_test_split(X_salinas, Y_salinas)\n"
      ],
      "execution_count": 0,
      "outputs": []
    },
    {
      "metadata": {
        "id": "oiMnSU4YrXsp",
        "colab_type": "text"
      },
      "cell_type": "markdown",
      "source": [
        "## Building the CNN Model"
      ]
    },
    {
      "metadata": {
        "id": "bouAaOwtrb8f",
        "colab_type": "code",
        "colab": {}
      },
      "cell_type": "code",
      "source": [
        "from keras.models import Model\n",
        "from keras import optimizers\n",
        "from keras.layers import (Dense, Conv2D, MaxPooling2D, Flatten, Input, \n",
        "                          concatenate, Add, BatchNormalization, Dropout)\n",
        "\n",
        "\n",
        "#\n",
        "# ------- DATASET-SPECIFIC HYPERSPECTRAL ANALYSIS LAYERS\n",
        "#\n",
        "\n",
        "# for Indian pines dataset\n",
        "input1 = Input(shape=(5, 5, 220), name='Indian_Pines_Input')\n",
        "model1 = Conv2D(128, (5, 5), activation='relu')(input1)\n",
        "model1 = Conv2D(128, (3, 3), activation='relu', padding='same')(model1)\n",
        "model1 = Conv2D(128, (1, 1), activation='relu', padding='same')(model1)\n",
        "\n",
        "# for Salinas dataset\n",
        "input2 = Input(shape=(5, 5, 224), name='Salinas_Input')\n",
        "model2 = Conv2D(128, (5, 5), activation='relu')(input2)\n",
        "model2 = Conv2D(128, (3, 3), activation='relu', padding='same')(model2)\n",
        "model2 = Conv2D(128, (1, 1), activation='relu', padding='same')(model2)\n",
        "\n",
        "\n",
        "#\n",
        "# ---------- SHARED LAYERS ----------------\n",
        "#\n",
        "\n",
        "shared_conv1 = Conv2D(128, (1, 1), activation='relu', padding='same')\n",
        "model1 = shared_conv1(model1)\n",
        "model2 = shared_conv1(model2)\n",
        "\n",
        "shared_bn1 = BatchNormalization()\n",
        "model1 = shared_bn1(model1)\n",
        "model2 = shared_bn1(model2)\n",
        "\n",
        "shared_conv2 = Conv2D(128, (1, 1), activation='relu', padding='same')\n",
        "model1 = shared_conv2(model1)\n",
        "model2 = shared_conv2(model2)\n",
        "\n",
        "shared_bn2 = BatchNormalization()\n",
        "model1 = shared_bn2(model1)\n",
        "model2 = shared_bn2(model2)\n",
        "\n",
        "shared_conv3 = Conv2D(128, (1, 1), activation='relu', padding='same')\n",
        "model11 = shared_conv3(model1)\n",
        "model22 = shared_conv3(model2)\n",
        "\n",
        "shared_bn3 = BatchNormalization()\n",
        "model11 = shared_bn3(model11)\n",
        "model22 = shared_bn3(model22)\n",
        "\n",
        "shared_conv3 = Conv2D(128, (1, 1), activation='relu', padding='same')\n",
        "model11 = shared_conv3(model11)\n",
        "model22 = shared_conv3(model22)\n",
        "\n",
        "shared_bn3 = BatchNormalization()\n",
        "model11 = shared_bn3(model11)\n",
        "model22 = shared_bn3(model22)\n",
        "\n",
        "shared_add1 = Add()\n",
        "model1 = shared_add1([model1, model11])\n",
        "model2 = shared_add1([model2, model22])\n",
        "\n",
        "shared_conv4 = Conv2D(128, (1, 1), activation='relu', padding='same')\n",
        "model1 = shared_conv4(model1)\n",
        "model2 = shared_conv4(model2)\n",
        "\n",
        "shared_bn4 = BatchNormalization()\n",
        "model1 = shared_bn4(model1)\n",
        "model2 = shared_bn4(model2)\n",
        "\n",
        "shared_conv5 = Conv2D(128, (1, 1), activation='relu', padding='same')\n",
        "model11 = shared_conv5(model1)\n",
        "model22 = shared_conv5(model2)\n",
        "\n",
        "shared_bn5 = BatchNormalization()\n",
        "model11 = shared_bn5(model11)\n",
        "model22 = shared_bn5(model22)\n",
        "\n",
        "shared_conv6 = Conv2D(128, (1, 1), activation='relu', padding='same')\n",
        "model11 = shared_conv6(model11)\n",
        "model22 = shared_conv6(model22)\n",
        "\n",
        "shared_bn6 = BatchNormalization()\n",
        "model11 = shared_bn6(model11)\n",
        "model22 = shared_bn6(model22)\n",
        "\n",
        "shared_add2 = Add()\n",
        "model1 = shared_add2([model1, model11])\n",
        "model2 = shared_add2([model2, model22])\n",
        "\n",
        "\n",
        "#\n",
        "# -------- DATASET-SPECIFIC CLASSIFICATION LAYERS ------------\n",
        "#\n",
        "\n",
        "# for indian pines dataset\n",
        "model1 = Conv2D(128, (1, 1), activation='relu')(model1)\n",
        "model1 = BatchNormalization()(model1)\n",
        "\n",
        "model1 = Conv2D(128, (1, 1), activation='relu')(model1)\n",
        "model1 = BatchNormalization()(model1)\n",
        "\n",
        "model1 = Conv2D(128, (1, 1), activation='relu')(model1)\n",
        "model1 = BatchNormalization()(model1)\n",
        "\n",
        "model1 = Flatten()(model1)\n",
        "model1 = Dense(512)(model1)\n",
        "model1 = Dense(17, activation='softmax', name='Indian_Pines_Output')(model1)\n",
        "\n",
        "# for salinas dataset\n",
        "model2 = Conv2D(128, (1, 1), activation='relu')(model2)\n",
        "model2 = BatchNormalization()(model2)\n",
        "\n",
        "model2 = Conv2D(128, (1, 1), activation='relu')(model2)\n",
        "model2 = BatchNormalization()(model2)\n",
        "\n",
        "model2 = Conv2D(128, (1, 1), activation='relu')(model2)\n",
        "model2 = BatchNormalization()(model2)\n",
        "\n",
        "model2 = Flatten()(model2)\n",
        "model2 = Dense(512)(model2)\n",
        "model2 = Dense(17, activation='softmax', name='Salinas_Output')(model2)\n",
        "\n",
        "model = Model(inputs=[input1, input2], outputs=[model1, model2])\n",
        "sgd = optimizers.SGD(lr=0.001, momentum=0.9, decay=0.0005)\n",
        "model.compile(optimizer=sgd, loss='categorical_crossentropy', metrics=['accuracy'])"
      ],
      "execution_count": 0,
      "outputs": []
    },
    {
      "metadata": {
        "colab_type": "code",
        "id": "UrSiT0Fbz6Yj",
        "cellView": "code",
        "colab": {}
      },
      "cell_type": "code",
      "source": [
        "from keras.utils import plot_model\n",
        "plot_model(model, to_file='model.png')\n",
        "from IPython.display import Image, display\n",
        "display(Image('/content/model.png'))"
      ],
      "execution_count": 0,
      "outputs": []
    },
    {
      "metadata": {
        "id": "zYsKqRGmVyRG",
        "colab_type": "text"
      },
      "cell_type": "markdown",
      "source": [
        "## Training the model"
      ]
    },
    {
      "metadata": {
        "id": "dTpLnEevV1Hp",
        "colab_type": "code",
        "outputId": "55f34c9a-3a02-41d9-aab6-58dad5a3aaca",
        "colab": {
          "base_uri": "https://localhost:8080/",
          "height": 717
        }
      },
      "cell_type": "code",
      "source": [
        "from keras.callbacks import TensorBoard\n",
        "\n",
        "tensorboard = TensorBoard(log_dir='./Graph', histogram_freq=0, write_graph=True, write_images=True)\n",
        "history = model.fit({'Indian_Pines_Input': Xtrain_indian_pines, 'Salinas_Input': Xtrain_salinas},\n",
        "          {'Indian_Pines_Output': Ytrain_indian_pines, 'Salinas_Output': Ytrain_salinas}, epochs=20, callbacks=[tensorboard])"
      ],
      "execution_count": 48,
      "outputs": [
        {
          "output_type": "stream",
          "text": [
            "Epoch 1/20\n",
            "3153/3153 [==============================] - 7s 2ms/step - loss: 4.8904 - Indian_Pines_Output_loss: 2.5591 - Salinas_Output_loss: 2.3313 - Indian_Pines_Output_acc: 0.3111 - Salinas_Output_acc: 0.3216\n",
            "Epoch 2/20\n",
            "3153/3153 [==============================] - 5s 1ms/step - loss: 3.4829 - Indian_Pines_Output_loss: 2.0025 - Salinas_Output_loss: 1.4804 - Indian_Pines_Output_acc: 0.5027 - Salinas_Output_acc: 0.5557\n",
            "Epoch 3/20\n",
            "3153/3153 [==============================] - 5s 1ms/step - loss: 3.1570 - Indian_Pines_Output_loss: 1.8409 - Salinas_Output_loss: 1.3161 - Indian_Pines_Output_acc: 0.5154 - Salinas_Output_acc: 0.5649\n",
            "Epoch 4/20\n",
            "3153/3153 [==============================] - 5s 1ms/step - loss: 2.9815 - Indian_Pines_Output_loss: 1.7559 - Salinas_Output_loss: 1.2256 - Indian_Pines_Output_acc: 0.5144 - Salinas_Output_acc: 0.5725\n",
            "Epoch 5/20\n",
            "3153/3153 [==============================] - 5s 1ms/step - loss: 2.8068 - Indian_Pines_Output_loss: 1.6581 - Salinas_Output_loss: 1.1487 - Indian_Pines_Output_acc: 0.5268 - Salinas_Output_acc: 0.6013\n",
            "Epoch 6/20\n",
            "3153/3153 [==============================] - 5s 1ms/step - loss: 2.6867 - Indian_Pines_Output_loss: 1.6074 - Salinas_Output_loss: 1.0792 - Indian_Pines_Output_acc: 0.5322 - Salinas_Output_acc: 0.6289\n",
            "Epoch 7/20\n",
            "3153/3153 [==============================] - 5s 1ms/step - loss: 2.6101 - Indian_Pines_Output_loss: 1.5771 - Salinas_Output_loss: 1.0330 - Indian_Pines_Output_acc: 0.5401 - Salinas_Output_acc: 0.6359\n",
            "Epoch 8/20\n",
            "3153/3153 [==============================] - 5s 1ms/step - loss: 2.5868 - Indian_Pines_Output_loss: 1.5641 - Salinas_Output_loss: 1.0227 - Indian_Pines_Output_acc: 0.5373 - Salinas_Output_acc: 0.6321\n",
            "Epoch 9/20\n",
            "3153/3153 [==============================] - 5s 1ms/step - loss: 2.5505 - Indian_Pines_Output_loss: 1.5494 - Salinas_Output_loss: 1.0010 - Indian_Pines_Output_acc: 0.5417 - Salinas_Output_acc: 0.6343\n",
            "Epoch 10/20\n",
            "3153/3153 [==============================] - 5s 1ms/step - loss: 2.5113 - Indian_Pines_Output_loss: 1.5276 - Salinas_Output_loss: 0.9837 - Indian_Pines_Output_acc: 0.5496 - Salinas_Output_acc: 0.6350\n",
            "Epoch 11/20\n",
            "3153/3153 [==============================] - 5s 1ms/step - loss: 2.4534 - Indian_Pines_Output_loss: 1.5211 - Salinas_Output_loss: 0.9323 - Indian_Pines_Output_acc: 0.5446 - Salinas_Output_acc: 0.6568\n",
            "Epoch 12/20\n",
            "3153/3153 [==============================] - 4s 1ms/step - loss: 2.4947 - Indian_Pines_Output_loss: 1.5082 - Salinas_Output_loss: 0.9865 - Indian_Pines_Output_acc: 0.5442 - Salinas_Output_acc: 0.6350\n",
            "Epoch 13/20\n",
            "3153/3153 [==============================] - 4s 1ms/step - loss: 2.4622 - Indian_Pines_Output_loss: 1.5184 - Salinas_Output_loss: 0.9438 - Indian_Pines_Output_acc: 0.5449 - Salinas_Output_acc: 0.6416\n",
            "Epoch 14/20\n",
            "3153/3153 [==============================] - 4s 1ms/step - loss: 2.4274 - Indian_Pines_Output_loss: 1.5023 - Salinas_Output_loss: 0.9252 - Indian_Pines_Output_acc: 0.5360 - Salinas_Output_acc: 0.6575\n",
            "Epoch 15/20\n",
            "3153/3153 [==============================] - 4s 1ms/step - loss: 2.3774 - Indian_Pines_Output_loss: 1.4692 - Salinas_Output_loss: 0.9082 - Indian_Pines_Output_acc: 0.5515 - Salinas_Output_acc: 0.6581\n",
            "Epoch 16/20\n",
            "3153/3153 [==============================] - 4s 1ms/step - loss: 2.3706 - Indian_Pines_Output_loss: 1.4570 - Salinas_Output_loss: 0.9136 - Indian_Pines_Output_acc: 0.5544 - Salinas_Output_acc: 0.6514\n",
            "Epoch 17/20\n",
            "3153/3153 [==============================] - 4s 1ms/step - loss: 2.3166 - Indian_Pines_Output_loss: 1.4421 - Salinas_Output_loss: 0.8745 - Indian_Pines_Output_acc: 0.5515 - Salinas_Output_acc: 0.6657\n",
            "Epoch 18/20\n",
            "3153/3153 [==============================] - 4s 1ms/step - loss: 2.3142 - Indian_Pines_Output_loss: 1.4417 - Salinas_Output_loss: 0.8725 - Indian_Pines_Output_acc: 0.5477 - Salinas_Output_acc: 0.6698\n",
            "Epoch 19/20\n",
            "3153/3153 [==============================] - 4s 1ms/step - loss: 2.2723 - Indian_Pines_Output_loss: 1.4167 - Salinas_Output_loss: 0.8555 - Indian_Pines_Output_acc: 0.5480 - Salinas_Output_acc: 0.6651\n",
            "Epoch 20/20\n",
            "3153/3153 [==============================] - 4s 1ms/step - loss: 2.2387 - Indian_Pines_Output_loss: 1.3820 - Salinas_Output_loss: 0.8567 - Indian_Pines_Output_acc: 0.5493 - Salinas_Output_acc: 0.6587\n"
          ],
          "name": "stdout"
        }
      ]
    },
    {
      "metadata": {
        "id": "aDtCeUy4s7ws",
        "colab_type": "text"
      },
      "cell_type": "markdown",
      "source": [
        "### Evaluate the model"
      ]
    },
    {
      "metadata": {
        "id": "tBD_YSVvtAUa",
        "colab_type": "code",
        "outputId": "1bd97570-903e-4c77-e78d-c1b36c2cb5ab",
        "colab": {
          "base_uri": "https://localhost:8080/",
          "height": 119
        }
      },
      "cell_type": "code",
      "source": [
        "results = model.evaluate({'Indian_Pines_Input': Xtest_indian_pines, 'Salinas_Input': Xtest_salinas},\n",
        "          {'Indian_Pines_Output': Ytest_indian_pines, 'Salinas_Output': Ytest_salinas})\n",
        "parameters = model.metrics_names\n",
        "for i in range(5):\n",
        "  print(parameters[i], results[i])"
      ],
      "execution_count": 49,
      "outputs": [
        {
          "output_type": "stream",
          "text": [
            "1052/1052 [==============================] - 2s 2ms/step\n",
            "loss 8.95360099226803\n",
            "Indian_Pines_Output_loss 7.967119459870197\n",
            "Salinas_Output_loss 0.9864815355707031\n",
            "Indian_Pines_Output_acc 0.5057034218265983\n",
            "Salinas_Output_acc 0.6615969586281722\n"
          ],
          "name": "stdout"
        }
      ]
    },
    {
      "metadata": {
        "id": "vLFYNb7Z_gy0",
        "colab_type": "code",
        "outputId": "851c2881-29b3-498d-a275-58146d7530aa",
        "colab": {
          "base_uri": "https://localhost:8080/",
          "height": 376
        }
      },
      "cell_type": "code",
      "source": [
        "plt.plot(history.history['Indian_Pines_Output_acc'])\n",
        "plt.plot(history.history['Salinas_Output_acc'])\n",
        "plt.title('model accuracy')\n",
        "plt.ylabel('accuracy')\n",
        "plt.xlabel('epoch')\n",
        "plt.legend(['Indian Pines', 'Salinas'], loc='upper left')\n",
        "plt.show()"
      ],
      "execution_count": 50,
      "outputs": [
        {
          "output_type": "display_data",
          "data": {
            "image/png": "[encoded data removed]",
            "text/plain": [
              "<Figure size 576x396 with 1 Axes>"
            ]
          },
          "metadata": {
            "tags": []
          }
        }
      ]
    },
    {
      "metadata": {
        "id": "Jb8CRrwtAHmu",
        "colab_type": "code",
        "outputId": "7f8ec7c1-37ed-4b0d-c7c1-1ea573f471af",
        "colab": {
          "base_uri": "https://localhost:8080/",
          "height": 376
        }
      },
      "cell_type": "code",
      "source": [
        "plt.plot(history.history['loss'])\n",
        "plt.title('model loss')\n",
        "plt.ylabel('loss')\n",
        "plt.xlabel('epoch')\n",
        "plt.show()"
      ],
      "execution_count": 51,
      "outputs": [
        {
          "output_type": "display_data",
          "data": {
            "image/png": "[encoded data removed]",
            "text/plain": [
              "<Figure size 576x396 with 1 Axes>"
            ]
          },
          "metadata": {
            "tags": []
          }
        }
      ]
    }
  ]
}